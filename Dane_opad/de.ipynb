{
 "cells": [
  {
   "attachments": {},
   "cell_type": "markdown",
   "metadata": {},
   "source": [
    "#### **Chapter 1**\n",
    "Data engineering is not only tables, columns, records etc. At first, let's transform some raw data - unpack *.zip files. Than, let's load some data! I am pleased to invite you to have some pracice together :)"
   ]
  },
  {
   "attachments": {},
   "cell_type": "markdown",
   "metadata": {},
   "source": [
    "`ctrl + Enter`  to run script in single cell"
   ]
  },
  {
   "attachments": {},
   "cell_type": "markdown",
   "metadata": {},
   "source": [
    "##### 1."
   ]
  },
  {
   "cell_type": "code",
   "execution_count": 6,
   "metadata": {},
   "outputs": [],
   "source": [
    "# There is solution, to unzip single file. Modify code below to unzip all the zip files.\n",
    "# Tip: use for loop, fstring (google it :) )\n",
    "import zipfile\n",
    "\n",
    "years = [2001, 2022, 2003] # continue\n",
    "file = f\"{year}_m_o.zip\"\n",
    "\n",
    "with zipfile.ZipFile(file, 'r') as zip:\n",
    "    zip.extractall(\"./extracted/\")"
   ]
  },
  {
   "attachments": {},
   "cell_type": "markdown",
   "metadata": {},
   "source": [
    "##### 2."
   ]
  },
  {
   "cell_type": "code",
   "execution_count": null,
   "metadata": {},
   "outputs": [],
   "source": [
    "# For more ambitious people - try to use \"os\" package (os.listdir function)\n",
    "# Plus, consider using construction str1 in str2, if necessary, google it for solution\n",
    "from os import listdir\n",
    "\n",
    "directory = \".\"\n",
    "listdir(directory)"
   ]
  },
  {
   "attachments": {},
   "cell_type": "markdown",
   "metadata": {},
   "source": [
    "##### 3."
   ]
  },
  {
   "cell_type": "code",
   "execution_count": null,
   "metadata": {},
   "outputs": [],
   "source": [
    "# Try to load csv into pandas dataframe, let's say - single file is enough in this chapter :)\n",
    "import pandas as pd\n",
    "\n",
    "path_to_file =\"./....../......\" # change path properly\n",
    "df = pd.read_csv(path_to_file) # it should an encoding error appear - so try to use latin encoding (add arg. encoding=\"latin\") to read_csv function\n",
    "df"
   ]
  }
 ],
 "metadata": {
  "kernelspec": {
   "display_name": "Python 3",
   "language": "python",
   "name": "python3"
  },
  "language_info": {
   "codemirror_mode": {
    "name": "ipython",
    "version": 3
   },
   "file_extension": ".py",
   "mimetype": "text/x-python",
   "name": "python",
   "nbconvert_exporter": "python",
   "pygments_lexer": "ipython3",
   "version": "3.10.1"
  },
  "orig_nbformat": 4,
  "vscode": {
   "interpreter": {
    "hash": "369f2c481f4da34e4445cda3fffd2e751bd1c4d706f27375911949ba6bb62e1c"
   }
  }
 },
 "nbformat": 4,
 "nbformat_minor": 2
}
